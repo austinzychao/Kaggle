{
 "cells": [
  {
   "cell_type": "code",
   "execution_count": 1,
   "id": "1abe6ad9",
   "metadata": {
    "_cell_guid": "b1076dfc-b9ad-4769-8c92-a6c4dae69d19",
    "_uuid": "8f2839f25d086af736a60e9eeb907d3b93b6e0e5",
    "execution": {
     "iopub.execute_input": "2023-03-12T07:27:41.019095Z",
     "iopub.status.busy": "2023-03-12T07:27:41.018683Z",
     "iopub.status.idle": "2023-03-12T07:27:50.708043Z",
     "shell.execute_reply": "2023-03-12T07:27:50.706609Z"
    },
    "papermill": {
     "duration": 9.697188,
     "end_time": "2023-03-12T07:27:50.711120",
     "exception": false,
     "start_time": "2023-03-12T07:27:41.013932",
     "status": "completed"
    },
    "tags": []
   },
   "outputs": [
    {
     "name": "stdout",
     "output_type": "stream",
     "text": [
      "/kaggle/input/digit-recognizer/sample_submission.csv\n",
      "/kaggle/input/digit-recognizer/train.csv\n",
      "/kaggle/input/digit-recognizer/test.csv\n"
     ]
    }
   ],
   "source": [
    "# This Python 3 environment comes with many helpful analytics libraries installed\n",
    "# It is defined by the kaggle/python Docker image: https://github.com/kaggle/docker-python\n",
    "# For example, here's several helpful packages to load\n",
    "\n",
    "import numpy as np # linear algebra\n",
    "import pandas as pd # data processing, CSV file I/O (e.g. pd.read_csv)\n",
    "\n",
    "# Input data files are available in the read-only \"../input/\" directory\n",
    "# For example, running this (by clicking run or pressing Shift+Enter) will list all files under the input directory\n",
    "\n",
    "import os\n",
    "for dirname, _, filenames in os.walk('/kaggle/input'):\n",
    "    for filename in filenames:\n",
    "        print(os.path.join(dirname, filename))\n",
    "\n",
    "# You can write up to 20GB to the current directory (/kaggle/working/) that gets preserved as output when you create a version using \"Save & Run All\" \n",
    "# You can also write temporary files to /kaggle/temp/, but they won't be saved outside of the current session\n",
    "\n",
    "import matplotlib.pyplot as plt\n",
    "import seaborn as sns\n",
    "from tensorflow.keras.layers import Dense\n",
    "from tensorflow.keras.models import Sequential\n",
    "from tensorflow.keras.utils import to_categorical"
   ]
  },
  {
   "cell_type": "code",
   "execution_count": 2,
   "id": "213d1e6e",
   "metadata": {
    "execution": {
     "iopub.execute_input": "2023-03-12T07:27:50.718975Z",
     "iopub.status.busy": "2023-03-12T07:27:50.718175Z",
     "iopub.status.idle": "2023-03-12T07:27:55.239660Z",
     "shell.execute_reply": "2023-03-12T07:27:55.238086Z"
    },
    "papermill": {
     "duration": 4.528356,
     "end_time": "2023-03-12T07:27:55.242253",
     "exception": false,
     "start_time": "2023-03-12T07:27:50.713897",
     "status": "completed"
    },
    "tags": []
   },
   "outputs": [],
   "source": [
    "train = pd.read_csv('/kaggle/input/digit-recognizer/train.csv')\n",
    "test  = pd.read_csv('/kaggle/input/digit-recognizer/test.csv')\n",
    "#train.head()\n",
    "#train.info()\n",
    "#test.info()\n",
    "#null_percent = (train.isnull().sum()/train.isnull().count()).sort_values(ascending=False)\n",
    "#null_percent.head(10)\n",
    "\n",
    "# Drop 'label' column\n",
    "train_X = train.drop(labels = [\"label\"],axis = 1)\n",
    "train_y = to_categorical(train[\"label\"])"
   ]
  },
  {
   "cell_type": "code",
   "execution_count": 3,
   "id": "80f2c0a1",
   "metadata": {
    "execution": {
     "iopub.execute_input": "2023-03-12T07:27:55.248620Z",
     "iopub.status.busy": "2023-03-12T07:27:55.248229Z",
     "iopub.status.idle": "2023-03-12T07:27:56.132565Z",
     "shell.execute_reply": "2023-03-12T07:27:56.131464Z"
    },
    "papermill": {
     "duration": 0.890012,
     "end_time": "2023-03-12T07:27:56.134723",
     "exception": false,
     "start_time": "2023-03-12T07:27:55.244711",
     "status": "completed"
    },
    "tags": []
   },
   "outputs": [
    {
     "data": {
      "image/png": "[encoded data removed]",
      "text/plain": [
       "<Figure size 640x480 with 9 Axes>"
      ]
     },
     "metadata": {},
     "output_type": "display_data"
    }
   ],
   "source": [
    "for i in range(9):\n",
    "    plt.subplot(3,3,i+1)\n",
    "    img_1d = train.iloc[i,:-1].values\n",
    "    img = img_1d.reshape(28,28)\n",
    "    plt.imshow(img,cmap='gray')"
   ]
  },
  {
   "cell_type": "markdown",
   "id": "b08f6cf0",
   "metadata": {
    "papermill": {
     "duration": 0.002119,
     "end_time": "2023-03-12T07:27:56.139339",
     "exception": false,
     "start_time": "2023-03-12T07:27:56.137220",
     "status": "completed"
    },
    "tags": []
   },
   "source": [
    "deep learning model"
   ]
  },
  {
   "cell_type": "code",
   "execution_count": 4,
   "id": "5b654592",
   "metadata": {
    "execution": {
     "iopub.execute_input": "2023-03-12T07:27:56.145340Z",
     "iopub.status.busy": "2023-03-12T07:27:56.144983Z",
     "iopub.status.idle": "2023-03-12T07:30:23.539551Z",
     "shell.execute_reply": "2023-03-12T07:30:23.537988Z"
    },
    "papermill": {
     "duration": 147.400762,
     "end_time": "2023-03-12T07:30:23.542447",
     "exception": false,
     "start_time": "2023-03-12T07:27:56.141685",
     "status": "completed"
    },
    "tags": []
   },
   "outputs": [
    {
     "name": "stdout",
     "output_type": "stream",
     "text": [
      "Epoch 1/10\n",
      "1050/1050 [==============================] - 14s 13ms/step - loss: 2.3708 - accuracy: 0.8950 - val_loss: 0.2823 - val_accuracy: 0.9396\n",
      "Epoch 2/10\n",
      "1050/1050 [==============================] - 13s 13ms/step - loss: 0.2314 - accuracy: 0.9479 - val_loss: 0.2916 - val_accuracy: 0.9406\n",
      "Epoch 3/10\n",
      "1050/1050 [==============================] - 13s 13ms/step - loss: 0.2007 - accuracy: 0.9524 - val_loss: 0.2185 - val_accuracy: 0.9536\n",
      "Epoch 4/10\n",
      "1050/1050 [==============================] - 13s 13ms/step - loss: 0.1867 - accuracy: 0.9547 - val_loss: 0.3033 - val_accuracy: 0.9382\n",
      "Epoch 5/10\n",
      "1050/1050 [==============================] - 13s 13ms/step - loss: 0.1978 - accuracy: 0.9537 - val_loss: 0.2557 - val_accuracy: 0.9496\n",
      "Epoch 6/10\n",
      "1050/1050 [==============================] - 13s 13ms/step - loss: 0.1694 - accuracy: 0.9586 - val_loss: 0.2764 - val_accuracy: 0.9418\n",
      "Epoch 7/10\n",
      "1050/1050 [==============================] - 14s 13ms/step - loss: 0.1392 - accuracy: 0.9675 - val_loss: 0.2767 - val_accuracy: 0.9486\n",
      "Epoch 8/10\n",
      "1050/1050 [==============================] - 13s 13ms/step - loss: 0.1583 - accuracy: 0.9640 - val_loss: 0.2406 - val_accuracy: 0.9582\n",
      "Epoch 9/10\n",
      "1050/1050 [==============================] - 13s 13ms/step - loss: 0.1196 - accuracy: 0.9715 - val_loss: 0.2211 - val_accuracy: 0.9564\n",
      "Epoch 10/10\n",
      "1050/1050 [==============================] - 14s 13ms/step - loss: 0.1202 - accuracy: 0.9716 - val_loss: 0.2827 - val_accuracy: 0.9569\n",
      "875/875 [==============================] - 4s 4ms/step\n"
     ]
    }
   ],
   "source": [
    "# Create the model: model\n",
    "model = Sequential()\n",
    "\n",
    "# Add the first hidden layer\n",
    "model.add(Dense(1000, activation='relu', input_shape=(784,)))\n",
    "\n",
    "# Add the second hidden layer\n",
    "model.add(Dense(1000, activation='relu'))\n",
    "\n",
    "# Add the output layer\n",
    "model.add(Dense(10, activation='softmax'))\n",
    "\n",
    "# Compile the model\n",
    "model.compile(optimizer='adam',loss='categorical_crossentropy',metrics=['accuracy'])\n",
    "\n",
    "# Fit the model\n",
    "model.fit(x=train_X,y=train_y,validation_split=0.2,epochs=10)\n",
    "\n",
    "#predict results\n",
    "predictions = model.predict(test)"
   ]
  },
  {
   "cell_type": "code",
   "execution_count": 5,
   "id": "3da6fc50",
   "metadata": {
    "execution": {
     "iopub.execute_input": "2023-03-12T07:30:23.814353Z",
     "iopub.status.busy": "2023-03-12T07:30:23.813082Z",
     "iopub.status.idle": "2023-03-12T07:30:23.851544Z",
     "shell.execute_reply": "2023-03-12T07:30:23.849592Z"
    },
    "papermill": {
     "duration": 0.182546,
     "end_time": "2023-03-12T07:30:23.854203",
     "exception": false,
     "start_time": "2023-03-12T07:30:23.671657",
     "status": "completed"
    },
    "tags": []
   },
   "outputs": [],
   "source": [
    "predictions = np.argmax(predictions,axis = 1)\n",
    "predictions = pd.Series(predictions,name=\"Label\")\n",
    "submission  = pd.concat([pd.Series(range(1,28001),name = \"ImageId\"),predictions],axis = 1)\n",
    "submission.to_csv('submission.csv', index=False)"
   ]
  }
 ],
 "metadata": {
  "kernelspec": {
   "display_name": "Python 3",
   "language": "python",
   "name": "python3"
  },
  "language_info": {
   "codemirror_mode": {
    "name": "ipython",
    "version": 3
   },
   "file_extension": ".py",
   "mimetype": "text/x-python",
   "name": "python",
   "nbconvert_exporter": "python",
   "pygments_lexer": "ipython3",
   "version": "3.7.12"
  },
  "papermill": {
   "default_parameters": {},
   "duration": 176.1544,
   "end_time": "2023-03-12T07:30:26.993465",
   "environment_variables": {},
   "exception": null,
   "input_path": "__notebook__.ipynb",
   "output_path": "__notebook__.ipynb",
   "parameters": {},
   "start_time": "2023-03-12T07:27:30.839065",
   "version": "2.4.0"
  }
 },
 "nbformat": 4,
 "nbformat_minor": 5
}
